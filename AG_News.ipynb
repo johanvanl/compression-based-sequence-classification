{
 "cells": [
  {
   "cell_type": "code",
   "execution_count": 1,
   "metadata": {},
   "outputs": [],
   "source": [
    "from sklearn.metrics import accuracy_score, top_k_accuracy_score, average_precision_score\n",
    "\n",
    "from compression_classifier.data.factory import EData, data_factory\n",
    "\n",
    "from compression_classifier.compressor.factory import ECompressor\n",
    "\n",
    "from compression_classifier.classifier.conc_dict.kmer_scoring import EScoring\n",
    "from compression_classifier.classifier.conc_dict.utils import choose_k_value, choose_segment_size\n",
    "\n",
    "from compression_classifier.classifier.models.tfidf import TfIdfSvmAutonomousClassifier\n",
    "from compression_classifier.classifier.models.amdl import AmdlDictClassifier\n",
    "from compression_classifier.classifier.models.ncd import NcdClassifier\n",
    "from compression_classifier.classifier.models.lzjd import LzjdClassifier\n",
    "from compression_classifier.classifier.models.zest import ZestClassifier\n",
    "from compression_classifier.classifier.models.zest import ZestClassifier\n",
    "from compression_classifier.classifier.models.conc_dict_lz4 import LZ4ConcDictLengthClassifier, LZ4ConcDictFeatureClassifier\n",
    "from compression_classifier.classifier.models.conc_dict_zstd import ZstdConcDictClassifier\n",
    "from compression_classifier.classifier.models.conc_dict_lz77 import LZ77ConcDictFeatureClassifier"
   ]
  },
  {
   "cell_type": "code",
   "execution_count": 2,
   "metadata": {},
   "outputs": [
    {
     "name": "stdout",
     "output_type": "stream",
     "text": [
      "Full dataset statistics:\n",
      "Total Train: 119915, Total Train: 7597\n",
      "\"World\" (0), Train: 29988, Test: 1899, Min: 98, Avg: 241±63, Max: 857\n",
      "\"Sports\" (1), Train: 29985, Test: 1900, Min: 98, Avg: 223±50, Max: 852\n",
      "\"Business\" (2), Train: 29974, Test: 1898, Min: 99, Avg: 239±63, Max: 1005\n",
      "\"Sci/Tech\" (3), Train: 29968, Test: 1900, Min: 98, Avg: 235±81, Max: 1011\n",
      "Avg Length: 234±64\n",
      "Trimming dataset to 25%\n"
     ]
    }
   ],
   "source": [
    "data = data_factory('/datasets/', EData.AG_NEWS)\n",
    "print('Full dataset statistics:')\n",
    "print(data)\n",
    "\n",
    "# Trim Dataset\n",
    "print('Trimming dataset to 25%')\n",
    "data.trim(0.25)"
   ]
  },
  {
   "cell_type": "markdown",
   "metadata": {},
   "source": [
    "# Tf-Idf SVM (Baseline Model)"
   ]
  },
  {
   "cell_type": "code",
   "execution_count": 3,
   "metadata": {},
   "outputs": [
    {
     "name": "stdout",
     "output_type": "stream",
     "text": [
      "Searching for best paramters!\n",
      "Best Params, k: 6, Sublinear TF: True, C: 1\n",
      "Accuracy: 0.91096\n"
     ]
    }
   ],
   "source": [
    "clf = TfIdfSvmAutonomousClassifier()\n",
    "clf.fit(data.X_train, data.y_train)\n",
    "y_pred = clf.predict(data.X_test)\n",
    "print(f'Accuracy: {accuracy_score(data.y_test, y_pred):.5f}')"
   ]
  },
  {
   "cell_type": "markdown",
   "metadata": {},
   "source": [
    "# AMDL"
   ]
  },
  {
   "cell_type": "code",
   "execution_count": 4,
   "metadata": {},
   "outputs": [
    {
     "name": "stdout",
     "output_type": "stream",
     "text": [
      "Set Max Bytes to 65536\n",
      "Accuracy: 0.89410\n"
     ]
    }
   ],
   "source": [
    "clf = AmdlDictClassifier(ECompressor.LZ4)\n",
    "clf.fit(data.X_train, data.y_train)\n",
    "y_pred = clf.predict(data.X_test)\n",
    "print(f'Accuracy: {accuracy_score(data.y_test, y_pred):.5f}')"
   ]
  },
  {
   "cell_type": "markdown",
   "metadata": {},
   "source": [
    "# NCD"
   ]
  },
  {
   "cell_type": "code",
   "execution_count": 5,
   "metadata": {},
   "outputs": [
    {
     "name": "stdout",
     "output_type": "stream",
     "text": [
      "Accuracy: 0.87829\n"
     ]
    }
   ],
   "source": [
    "clf = NcdClassifier(ECompressor.LZ4, n_neighbors=3)\n",
    "clf.fit(data.X_train, data.y_train)\n",
    "y_pred = clf.predict(data.X_test)\n",
    "print(f'Accuracy: {accuracy_score(data.y_test, y_pred):.5f}')"
   ]
  },
  {
   "cell_type": "markdown",
   "metadata": {},
   "source": [
    "# Lempel-Ziv Jaccard Distance"
   ]
  },
  {
   "cell_type": "code",
   "execution_count": 6,
   "metadata": {},
   "outputs": [
    {
     "name": "stdout",
     "output_type": "stream",
     "text": [
      "Accuracy: 0.64647\n"
     ]
    }
   ],
   "source": [
    "clf = LzjdClassifier()\n",
    "clf.fit(data.X_train, data.y_train)\n",
    "y_pred = clf.predict(data.X_test)\n",
    "print(f'Accuracy: {accuracy_score(data.y_test, y_pred):.5f}')"
   ]
  },
  {
   "cell_type": "markdown",
   "metadata": {},
   "source": [
    "# Zest"
   ]
  },
  {
   "cell_type": "code",
   "execution_count": 7,
   "metadata": {},
   "outputs": [
    {
     "name": "stdout",
     "output_type": "stream",
     "text": [
      "Dictionary Sizes: [16384, 145092, 273800, 402508]\n",
      "Accuracy: 0.87566\n"
     ]
    }
   ],
   "source": [
    "clf = ZestClassifier()\n",
    "clf.fit(data.X_train, data.y_train)\n",
    "y_pred = clf.predict(data.X_test)\n",
    "print(f'Accuracy: {accuracy_score(data.y_test, y_pred):.5f}')"
   ]
  },
  {
   "cell_type": "markdown",
   "metadata": {},
   "source": [
    "# Concentrated Dictionary"
   ]
  },
  {
   "cell_type": "code",
   "execution_count": 3,
   "metadata": {},
   "outputs": [
    {
     "name": "stdout",
     "output_type": "stream",
     "text": [
      "Dict Size: 65536, k-mer Size: 8, Segment Size: 16\n"
     ]
    }
   ],
   "source": [
    "dict_size=2**16\n",
    "k = choose_k_value(data)\n",
    "segment_size = choose_segment_size(2**16, data)\n",
    "print(f'Dict Size: {dict_size}, k-mer Size: {k}, Segment Size: {segment_size}')"
   ]
  },
  {
   "cell_type": "markdown",
   "metadata": {},
   "source": [
    "## Concentrated Dictionary (Length) (LZ4)"
   ]
  },
  {
   "cell_type": "markdown",
   "metadata": {},
   "source": [
    "Term Frequency (tf) Scoring"
   ]
  },
  {
   "cell_type": "code",
   "execution_count": 5,
   "metadata": {},
   "outputs": [
    {
     "name": "stdout",
     "output_type": "stream",
     "text": [
      "P@1: 0.86670, P@2: 0.97050, AP: 0.89692\n"
     ]
    }
   ],
   "source": [
    "clf = LZ4ConcDictLengthClassifier(EScoring.TF, dict_size=dict_size, k=k, segment_size=segment_size)\n",
    "clf.fit(data.X_train, data.y_train)\n",
    "y_score = clf.predict_proba(data.X_test)\n",
    "print(f'P@1: {top_k_accuracy_score(data.y_test, y_score, k=1):.5f}, P@2: {top_k_accuracy_score(data.y_test, y_score, k=2):.5f}, AP: {average_precision_score(data.y_test, y_score):.5f}')"
   ]
  },
  {
   "cell_type": "markdown",
   "metadata": {},
   "source": [
    "PPMI sublinear Scoring"
   ]
  },
  {
   "cell_type": "code",
   "execution_count": 6,
   "metadata": {},
   "outputs": [
    {
     "name": "stdout",
     "output_type": "stream",
     "text": [
      "P@1: 0.88567, P@2: 0.96891, AP: 0.91957\n"
     ]
    }
   ],
   "source": [
    "clf = LZ4ConcDictLengthClassifier(EScoring.PPMI_SUBLINEAR, dict_size=dict_size, k=k, segment_size=segment_size)\n",
    "clf.fit(data.X_train, data.y_train)\n",
    "y_score = clf.predict_proba(data.X_test)\n",
    "print(f'P@1: {top_k_accuracy_score(data.y_test, y_score, k=1):.5f}, P@2: {top_k_accuracy_score(data.y_test, y_score, k=2):.5f}, AP: {average_precision_score(data.y_test, y_score):.5f}')"
   ]
  },
  {
   "cell_type": "markdown",
   "metadata": {},
   "source": [
    "## Concentrated Dictionary (Length) (zstd)"
   ]
  },
  {
   "cell_type": "markdown",
   "metadata": {},
   "source": [
    "Term Frequency (tf) Scoring"
   ]
  },
  {
   "cell_type": "code",
   "execution_count": 7,
   "metadata": {},
   "outputs": [
    {
     "name": "stdout",
     "output_type": "stream",
     "text": [
      "P@1: 0.86091, P@2: 0.96891, AP: 0.88783\n"
     ]
    }
   ],
   "source": [
    "clf = ZstdConcDictClassifier(EScoring.TF, dict_size=dict_size, k=k, segment_size=segment_size)\n",
    "clf.fit(data.X_train, data.y_train)\n",
    "y_score = clf.predict_proba(data.X_test)\n",
    "print(f'P@1: {top_k_accuracy_score(data.y_test, y_score, k=1):.5f}, P@2: {top_k_accuracy_score(data.y_test, y_score, k=2):.5f}, AP: {average_precision_score(data.y_test, y_score):.5f}')"
   ]
  },
  {
   "cell_type": "markdown",
   "metadata": {},
   "source": [
    "PPMI sublinear Scoring"
   ]
  },
  {
   "cell_type": "code",
   "execution_count": 8,
   "metadata": {},
   "outputs": [
    {
     "name": "stdout",
     "output_type": "stream",
     "text": [
      "P@1: 0.87039, P@2: 0.96681, AP: 0.91477\n"
     ]
    }
   ],
   "source": [
    "clf = ZstdConcDictClassifier(EScoring.PPMI_SUBLINEAR, dict_size=dict_size, k=k, segment_size=segment_size)\n",
    "clf.fit(data.X_train, data.y_train)\n",
    "y_score = clf.predict_proba(data.X_test)\n",
    "print(f'P@1: {top_k_accuracy_score(data.y_test, y_score, k=1):.5f}, P@2: {top_k_accuracy_score(data.y_test, y_score, k=2):.5f}, AP: {average_precision_score(data.y_test, y_score):.5f}')"
   ]
  },
  {
   "cell_type": "markdown",
   "metadata": {},
   "source": [
    "## Concentrated Dictionary (Features) (LZ4)"
   ]
  },
  {
   "cell_type": "markdown",
   "metadata": {},
   "source": [
    "Term Frequency (tf) Scoring"
   ]
  },
  {
   "cell_type": "code",
   "execution_count": 9,
   "metadata": {},
   "outputs": [
    {
     "name": "stdout",
     "output_type": "stream",
     "text": [
      "Best Params, C: 0.1\n",
      "P@1: 0.87039, P@2: 0.96839, AP: 0.92419\n"
     ]
    }
   ],
   "source": [
    "clf = LZ4ConcDictFeatureClassifier(EScoring.TF, dict_size=dict_size, k=k, segment_size=segment_size)\n",
    "clf.fit(data.X_train, data.y_train)\n",
    "y_score = clf.predict_proba(data.X_test)\n",
    "print(f'P@1: {top_k_accuracy_score(data.y_test, y_score, k=1):.5f}, P@2: {top_k_accuracy_score(data.y_test, y_score, k=2):.5f}, AP: {average_precision_score(data.y_test, y_score):.5f}')"
   ]
  },
  {
   "cell_type": "markdown",
   "metadata": {},
   "source": [
    "PPMI sublinear Scoring"
   ]
  },
  {
   "cell_type": "code",
   "execution_count": 10,
   "metadata": {},
   "outputs": [
    {
     "name": "stdout",
     "output_type": "stream",
     "text": [
      "Best Params, C: 0.1\n",
      "P@1: 0.88936, P@2: 0.97155, AP: 0.93444\n"
     ]
    }
   ],
   "source": [
    "clf = LZ4ConcDictFeatureClassifier(EScoring.PPMI_SUBLINEAR, dict_size=dict_size, k=k, segment_size=segment_size)\n",
    "clf.fit(data.X_train, data.y_train)\n",
    "y_score = clf.predict_proba(data.X_test)\n",
    "print(f'P@1: {top_k_accuracy_score(data.y_test, y_score, k=1):.5f}, P@2: {top_k_accuracy_score(data.y_test, y_score, k=2):.5f}, AP: {average_precision_score(data.y_test, y_score):.5f}')"
   ]
  },
  {
   "cell_type": "markdown",
   "metadata": {},
   "source": [
    "## Concentrated Dictionary (Features) (LZ77)"
   ]
  },
  {
   "cell_type": "markdown",
   "metadata": {},
   "source": [
    "Term Frequency (tf) Scoring"
   ]
  },
  {
   "cell_type": "code",
   "execution_count": 13,
   "metadata": {},
   "outputs": [
    {
     "name": "stdout",
     "output_type": "stream",
     "text": [
      "Best Params, C: 0.1\n",
      "P@1: 0.87039, P@2: 0.96681, AP: 0.91974\n"
     ]
    }
   ],
   "source": [
    "clf = LZ77ConcDictFeatureClassifier(EScoring.TF, dict_size=dict_size, k=k, segment_size=segment_size)\n",
    "clf.fit(data.X_train, data.y_train)\n",
    "y_score = clf.predict_proba(data.X_test)\n",
    "print(f'P@1: {top_k_accuracy_score(data.y_test, y_score, k=1):.5f}, P@2: {top_k_accuracy_score(data.y_test, y_score, k=2):.5f}, AP: {average_precision_score(data.y_test, y_score):.5f}')"
   ]
  },
  {
   "cell_type": "markdown",
   "metadata": {},
   "source": [
    "PPMI sublinear Scoring"
   ]
  },
  {
   "cell_type": "code",
   "execution_count": 12,
   "metadata": {},
   "outputs": [
    {
     "name": "stdout",
     "output_type": "stream",
     "text": [
      "Best Params, C: 0.01\n",
      "P@1: 0.89146, P@2: 0.96628, AP: 0.92802\n"
     ]
    }
   ],
   "source": [
    "clf = LZ77ConcDictFeatureClassifier(EScoring.PPMI_SUBLINEAR, dict_size=dict_size, k=k, segment_size=segment_size)\n",
    "clf.fit(data.X_train, data.y_train)\n",
    "y_score = clf.predict_proba(data.X_test)\n",
    "print(f'P@1: {top_k_accuracy_score(data.y_test, y_score, k=1):.5f}, P@2: {top_k_accuracy_score(data.y_test, y_score, k=2):.5f}, AP: {average_precision_score(data.y_test, y_score):.5f}')"
   ]
  }
 ],
 "metadata": {
  "kernelspec": {
   "display_name": "Python 3",
   "language": "python",
   "name": "python3"
  },
  "language_info": {
   "codemirror_mode": {
    "name": "ipython",
    "version": 3
   },
   "file_extension": ".py",
   "mimetype": "text/x-python",
   "name": "python",
   "nbconvert_exporter": "python",
   "pygments_lexer": "ipython3",
   "version": "3.12.4"
  }
 },
 "nbformat": 4,
 "nbformat_minor": 2
}
