{
 "cells": [
  {
   "cell_type": "markdown",
   "metadata": {},
   "source": [
    "# Imports"
   ]
  },
  {
   "cell_type": "code",
   "execution_count": 1,
   "metadata": {},
   "outputs": [],
   "source": [
    "from sklearn.metrics import accuracy_score, top_k_accuracy_score, average_precision_score\n",
    "\n",
    "from compression_classifier.data.factory import EData, data_factory\n",
    "\n",
    "from compression_classifier.compressor.factory import ECompressor\n",
    "\n",
    "from compression_classifier.classifier.conc_dict.kmer_scoring import EScoring\n",
    "from compression_classifier.classifier.conc_dict.utils import choose_k_value, choose_segment_size\n",
    "\n",
    "from compression_classifier.classifier.models.tfidf import TfIdfSvmAutonomousClassifier\n",
    "from compression_classifier.classifier.models.amdl import AmdlDictClassifier\n",
    "from compression_classifier.classifier.models.ncd import NcdClassifier\n",
    "from compression_classifier.classifier.models.lzjd import LzjdClassifier\n",
    "from compression_classifier.classifier.models.zest import ZestClassifier\n",
    "from compression_classifier.classifier.models.zest import ZestClassifier\n",
    "from compression_classifier.classifier.models.conc_dict_lz4 import LZ4ConcDictLengthClassifier, LZ4ConcDictFeatureClassifier\n",
    "from compression_classifier.classifier.models.conc_dict_zstd import ZstdConcDictClassifier\n",
    "from compression_classifier.classifier.models.conc_dict_lz77 import LZ77ConcDictFeatureClassifier"
   ]
  },
  {
   "cell_type": "markdown",
   "metadata": {},
   "source": [
    "# Load Data"
   ]
  },
  {
   "cell_type": "code",
   "execution_count": 2,
   "metadata": {},
   "outputs": [
    {
     "name": "stdout",
     "output_type": "stream",
     "text": [
      "Full dataset statistics:\n",
      "Total Train: 11314, Total Train: 7532\n",
      "\"alt.atheism\" (0), Train: 480, Test: 319, Min: 225, Avg: 2104±3448, Max: 48329\n",
      "\"comp.graphics\" (1), Train: 584, Test: 389, Min: 119, Avg: 1479±4506, Max: 58367\n",
      "\"comp.os.ms-windows.misc\" (2), Train: 591, Test: 394, Min: 156, Avg: 2935±9926, Max: 62483\n",
      "\"comp.sys.ibm.pc.hardware\" (3), Train: 590, Test: 392, Min: 157, Avg: 1277±1887, Max: 25172\n",
      "\"comp.sys.mac.hardware\" (4), Train: 578, Test: 385, Min: 117, Avg: 1160±1946, Max: 44904\n",
      "\"comp.windows.x\" (5), Train: 593, Test: 395, Min: 159, Avg: 1993±5879, Max: 64538\n",
      "\"misc.forsale\" (6), Train: 585, Test: 390, Min: 139, Avg: 945±940, Max: 14484\n",
      "\"rec.autos\" (7), Train: 594, Test: 396, Min: 127, Avg: 1394±1514, Max: 26006\n",
      "\"rec.motorcycles\" (8), Train: 598, Test: 398, Min: 189, Avg: 1295±1574, Max: 34586\n",
      "\"rec.sport.baseball\" (9), Train: 597, Test: 397, Min: 170, Avg: 1355±1386, Max: 15254\n",
      "\"rec.sport.hockey\" (10), Train: 600, Test: 399, Min: 158, Avg: 1818±3321, Max: 68051\n",
      "\"sci.crypt\" (11), Train: 595, Test: 396, Min: 258, Avg: 2426±4630, Max: 57752\n",
      "\"sci.electronics\" (12), Train: 591, Test: 393, Min: 206, Avg: 1316±2942, Max: 69937\n",
      "\"sci.med\" (13), Train: 594, Test: 396, Min: 206, Avg: 1924±3096, Max: 34230\n",
      "\"sci.space\" (14), Train: 593, Test: 394, Min: 154, Avg: 1922±2980, Max: 38704\n",
      "\"soc.religion.christian\" (15), Train: 599, Test: 398, Min: 168, Avg: 2196±1993, Max: 15638\n",
      "\"talk.politics.guns\" (16), Train: 546, Test: 364, Min: 261, Avg: 2332±3882, Max: 70715\n",
      "\"talk.politics.mideast\" (17), Train: 564, Test: 376, Min: 144, Avg: 3016±4937, Max: 61173\n",
      "\"talk.politics.misc\" (18), Train: 465, Test: 310, Min: 155, Avg: 2726±4725, Max: 48026\n",
      "\"talk.religion.misc\" (19), Train: 377, Test: 251, Min: 187, Avg: 2148±2481, Max: 28251\n",
      "Avg Length: 1888±3399\n",
      "Trimming dataset to 25%\n"
     ]
    }
   ],
   "source": [
    "data = data_factory('/datasets/', EData.TWENTY_NEWS)\n",
    "print('Full dataset statistics:')\n",
    "print(data)\n",
    "\n",
    "# Trim Dataset\n",
    "print('Trimming dataset to 25%')\n",
    "data.trim(0.25)"
   ]
  },
  {
   "cell_type": "markdown",
   "metadata": {},
   "source": [
    "# Tf-Idf SVM (Baseline) Model"
   ]
  },
  {
   "cell_type": "code",
   "execution_count": 3,
   "metadata": {},
   "outputs": [
    {
     "name": "stdout",
     "output_type": "stream",
     "text": [
      "Searching for best paramters!\n",
      "Best Params, k: 6, Sublinear TF: True, C: 10\n",
      "Accuracy: 0.79448\n"
     ]
    }
   ],
   "source": [
    "clf = TfIdfSvmAutonomousClassifier()\n",
    "clf.fit(data.X_train, data.y_train)\n",
    "y_pred = clf.predict(data.X_test)\n",
    "print(f'Accuracy: {accuracy_score(data.y_test, y_pred):.5f}')"
   ]
  },
  {
   "cell_type": "markdown",
   "metadata": {},
   "source": [
    "# AMDL Model"
   ]
  },
  {
   "cell_type": "code",
   "execution_count": 4,
   "metadata": {},
   "outputs": [
    {
     "name": "stdout",
     "output_type": "stream",
     "text": [
      "Set Max Bytes to 65536\n",
      "Accuracy: 0.70685\n"
     ]
    }
   ],
   "source": [
    "clf = AmdlDictClassifier(ECompressor.LZ4)\n",
    "clf.fit(data.X_train, data.y_train)\n",
    "y_pred = clf.predict(data.X_test)\n",
    "print(f'Accuracy: {accuracy_score(data.y_test, y_pred):.5f}')"
   ]
  },
  {
   "cell_type": "markdown",
   "metadata": {},
   "source": [
    "# NCD Model"
   ]
  },
  {
   "cell_type": "code",
   "execution_count": 5,
   "metadata": {},
   "outputs": [
    {
     "name": "stdout",
     "output_type": "stream",
     "text": [
      "Accuracy: 0.48646\n"
     ]
    }
   ],
   "source": [
    "clf = NcdClassifier(ECompressor.LZ4, n_neighbors=1)\n",
    "clf.fit(data.X_train, data.y_train)\n",
    "y_pred = clf.predict(data.X_test)\n",
    "print(f'Accuracy: {accuracy_score(data.y_test, y_pred):.5f}')"
   ]
  },
  {
   "cell_type": "markdown",
   "metadata": {},
   "source": [
    "# Lempel-Ziv Jaccard Distance Model"
   ]
  },
  {
   "cell_type": "code",
   "execution_count": 6,
   "metadata": {},
   "outputs": [
    {
     "name": "stdout",
     "output_type": "stream",
     "text": [
      "Accuracy: 0.36006\n"
     ]
    }
   ],
   "source": [
    "clf = LzjdClassifier()\n",
    "clf.fit(data.X_train, data.y_train)\n",
    "y_pred = clf.predict(data.X_test)\n",
    "print(f'Accuracy: {accuracy_score(data.y_test, y_pred):.5f}')"
   ]
  },
  {
   "cell_type": "markdown",
   "metadata": {},
   "source": [
    "# Zest Model"
   ]
  },
  {
   "cell_type": "code",
   "execution_count": 7,
   "metadata": {},
   "outputs": [
    {
     "name": "stdout",
     "output_type": "stream",
     "text": [
      "Dictionary Sizes: [16384, 49709, 83034, 116359]\n",
      "Accuracy: 0.64950\n"
     ]
    }
   ],
   "source": [
    "clf = ZestClassifier()\n",
    "clf.fit(data.X_train, data.y_train)\n",
    "y_pred = clf.predict(data.X_test)\n",
    "print(f'Accuracy: {accuracy_score(data.y_test, y_pred):.5f}')"
   ]
  },
  {
   "cell_type": "markdown",
   "metadata": {},
   "source": [
    "# Concentrated Dictionary Models"
   ]
  },
  {
   "cell_type": "code",
   "execution_count": 8,
   "metadata": {},
   "outputs": [
    {
     "name": "stdout",
     "output_type": "stream",
     "text": [
      "Dict Size: 65536, k-mer Size: 8, Segment Size: 1024\n"
     ]
    }
   ],
   "source": [
    "dict_size=2**16\n",
    "k = choose_k_value(data)\n",
    "segment_size = choose_segment_size(dict_size, data)\n",
    "print(f'Dict Size: {dict_size}, k-mer Size: {k}, Segment Size: {segment_size}')"
   ]
  },
  {
   "cell_type": "markdown",
   "metadata": {},
   "source": [
    "## Concentrated Dictionary (Length) (LZ4) Model"
   ]
  },
  {
   "cell_type": "markdown",
   "metadata": {},
   "source": [
    "### Term Frequency (tf) Scoring"
   ]
  },
  {
   "cell_type": "code",
   "execution_count": 9,
   "metadata": {},
   "outputs": [
    {
     "name": "stdout",
     "output_type": "stream",
     "text": [
      "P@1: 0.64843, P@2: 0.78173, AP: 0.54052\n"
     ]
    }
   ],
   "source": [
    "clf = LZ4ConcDictLengthClassifier(EScoring.TF, dict_size=dict_size, k=k, segment_size=segment_size)\n",
    "clf.fit(data.X_train, data.y_train)\n",
    "y_score = clf.predict_proba(data.X_test)\n",
    "print(f'P@1: {top_k_accuracy_score(data.y_test, y_score, k=1):.5f}, P@2: {top_k_accuracy_score(data.y_test, y_score, k=2):.5f}, AP: {average_precision_score(data.y_test, y_score):.5f}')"
   ]
  },
  {
   "cell_type": "markdown",
   "metadata": {},
   "source": [
    "### PPMI sublinear Scoring"
   ]
  },
  {
   "cell_type": "code",
   "execution_count": 10,
   "metadata": {},
   "outputs": [
    {
     "name": "stdout",
     "output_type": "stream",
     "text": [
      "P@1: 0.63994, P@2: 0.76049, AP: 0.53619\n"
     ]
    }
   ],
   "source": [
    "clf = LZ4ConcDictLengthClassifier(EScoring.PPMI_SUBLINEAR, dict_size=dict_size, k=k, segment_size=segment_size)\n",
    "clf.fit(data.X_train, data.y_train)\n",
    "y_score = clf.predict_proba(data.X_test)\n",
    "print(f'P@1: {top_k_accuracy_score(data.y_test, y_score, k=1):.5f}, P@2: {top_k_accuracy_score(data.y_test, y_score, k=2):.5f}, AP: {average_precision_score(data.y_test, y_score):.5f}')"
   ]
  },
  {
   "cell_type": "markdown",
   "metadata": {},
   "source": [
    "## Concentrated Dictionary (Length) (zstd) Model"
   ]
  },
  {
   "cell_type": "markdown",
   "metadata": {},
   "source": [
    "### Term Frequency (tf) Scoring"
   ]
  },
  {
   "cell_type": "code",
   "execution_count": 11,
   "metadata": {},
   "outputs": [
    {
     "name": "stdout",
     "output_type": "stream",
     "text": [
      "P@1: 0.63091, P@2: 0.76155, AP: 0.50912\n"
     ]
    }
   ],
   "source": [
    "clf = ZstdConcDictClassifier(EScoring.TF, dict_size=dict_size, k=k, segment_size=segment_size)\n",
    "clf.fit(data.X_train, data.y_train)\n",
    "y_score = clf.predict_proba(data.X_test)\n",
    "print(f'P@1: {top_k_accuracy_score(data.y_test, y_score, k=1):.5f}, P@2: {top_k_accuracy_score(data.y_test, y_score, k=2):.5f}, AP: {average_precision_score(data.y_test, y_score):.5f}')"
   ]
  },
  {
   "cell_type": "markdown",
   "metadata": {},
   "source": [
    "### PPMI sublinear Scoring"
   ]
  },
  {
   "cell_type": "code",
   "execution_count": 12,
   "metadata": {},
   "outputs": [
    {
     "name": "stdout",
     "output_type": "stream",
     "text": [
      "P@1: 0.61391, P@2: 0.74615, AP: 0.51080\n"
     ]
    }
   ],
   "source": [
    "clf = ZstdConcDictClassifier(EScoring.PPMI_SUBLINEAR, dict_size=dict_size, k=k, segment_size=segment_size)\n",
    "clf.fit(data.X_train, data.y_train)\n",
    "y_score = clf.predict_proba(data.X_test)\n",
    "print(f'P@1: {top_k_accuracy_score(data.y_test, y_score, k=1):.5f}, P@2: {top_k_accuracy_score(data.y_test, y_score, k=2):.5f}, AP: {average_precision_score(data.y_test, y_score):.5f}')"
   ]
  },
  {
   "cell_type": "markdown",
   "metadata": {},
   "source": [
    "## Concentrated Dictionary (Features) (LZ4) Model"
   ]
  },
  {
   "cell_type": "markdown",
   "metadata": {},
   "source": [
    "### Term Frequency (tf) Scoring"
   ]
  },
  {
   "cell_type": "code",
   "execution_count": 13,
   "metadata": {},
   "outputs": [
    {
     "name": "stdout",
     "output_type": "stream",
     "text": [
      "Best Params, C: 0.1\n",
      "P@1: 0.59958, P@2: 0.73447, AP: 0.60044\n"
     ]
    }
   ],
   "source": [
    "clf = LZ4ConcDictFeatureClassifier(EScoring.TF, dict_size=dict_size, k=k, segment_size=segment_size)\n",
    "clf.fit(data.X_train, data.y_train)\n",
    "y_score = clf.predict_proba(data.X_test)\n",
    "print(f'P@1: {top_k_accuracy_score(data.y_test, y_score, k=1):.5f}, P@2: {top_k_accuracy_score(data.y_test, y_score, k=2):.5f}, AP: {average_precision_score(data.y_test, y_score):.5f}')"
   ]
  },
  {
   "cell_type": "markdown",
   "metadata": {},
   "source": [
    "### PPMI sublinear Scoring"
   ]
  },
  {
   "cell_type": "code",
   "execution_count": 14,
   "metadata": {},
   "outputs": [
    {
     "name": "stdout",
     "output_type": "stream",
     "text": [
      "Best Params, C: 0.1\n",
      "P@1: 0.59320, P@2: 0.73340, AP: 0.59578\n"
     ]
    }
   ],
   "source": [
    "clf = LZ4ConcDictFeatureClassifier(EScoring.PPMI_SUBLINEAR, dict_size=dict_size, k=k, segment_size=segment_size)\n",
    "clf.fit(data.X_train, data.y_train)\n",
    "y_score = clf.predict_proba(data.X_test)\n",
    "print(f'P@1: {top_k_accuracy_score(data.y_test, y_score, k=1):.5f}, P@2: {top_k_accuracy_score(data.y_test, y_score, k=2):.5f}, AP: {average_precision_score(data.y_test, y_score):.5f}')"
   ]
  },
  {
   "cell_type": "markdown",
   "metadata": {},
   "source": [
    "## Concentrated Dictionary (Features) (LZ77) Model"
   ]
  },
  {
   "cell_type": "markdown",
   "metadata": {},
   "source": [
    "### Term Frequency (tf) Scoring"
   ]
  },
  {
   "cell_type": "code",
   "execution_count": 15,
   "metadata": {},
   "outputs": [
    {
     "name": "stdout",
     "output_type": "stream",
     "text": [
      "Best Params, C: 0.1\n",
      "P@1: 0.60223, P@2: 0.74243, AP: 0.60914\n"
     ]
    }
   ],
   "source": [
    "clf = LZ77ConcDictFeatureClassifier(EScoring.TF, dict_size=dict_size, k=k, segment_size=segment_size)\n",
    "clf.fit(data.X_train, data.y_train)\n",
    "y_score = clf.predict_proba(data.X_test)\n",
    "print(f'P@1: {top_k_accuracy_score(data.y_test, y_score, k=1):.5f}, P@2: {top_k_accuracy_score(data.y_test, y_score, k=2):.5f}, AP: {average_precision_score(data.y_test, y_score):.5f}')"
   ]
  },
  {
   "cell_type": "markdown",
   "metadata": {},
   "source": [
    "### PPMI sublinear Scoring"
   ]
  },
  {
   "cell_type": "code",
   "execution_count": 16,
   "metadata": {},
   "outputs": [
    {
     "name": "stdout",
     "output_type": "stream",
     "text": [
      "Best Params, C: 0.1\n",
      "P@1: 0.60011, P@2: 0.72013, AP: 0.59295\n"
     ]
    }
   ],
   "source": [
    "clf = LZ77ConcDictFeatureClassifier(EScoring.PPMI_SUBLINEAR, dict_size=dict_size, k=k, segment_size=segment_size)\n",
    "clf.fit(data.X_train, data.y_train)\n",
    "y_score = clf.predict_proba(data.X_test)\n",
    "print(f'P@1: {top_k_accuracy_score(data.y_test, y_score, k=1):.5f}, P@2: {top_k_accuracy_score(data.y_test, y_score, k=2):.5f}, AP: {average_precision_score(data.y_test, y_score):.5f}')"
   ]
  }
 ],
 "metadata": {
  "kernelspec": {
   "display_name": "Python 3",
   "language": "python",
   "name": "python3"
  },
  "language_info": {
   "codemirror_mode": {
    "name": "ipython",
    "version": 3
   },
   "file_extension": ".py",
   "mimetype": "text/x-python",
   "name": "python",
   "nbconvert_exporter": "python",
   "pygments_lexer": "ipython3",
   "version": "3.12.4"
  }
 },
 "nbformat": 4,
 "nbformat_minor": 2
}
